{
 "cells": [
  {
   "cell_type": "markdown",
   "id": "7e281971",
   "metadata": {},
   "source": [
    "# Travaux pratique: Segmentation des images\n",
    "\n",
    "**Prénom et nom:** Alice Valença De Lorenci"
   ]
  },
  {
   "cell_type": "code",
   "execution_count": 1,
   "id": "b6c5c0b3",
   "metadata": {},
   "outputs": [],
   "source": [
    "import numpy as np\n",
    "import platform\n",
    "import tempfile\n",
    "import os\n",
    "import matplotlib.pyplot as plt\n",
    "from scipy import ndimage as ndi\n",
    "# necessite scikit-image \n",
    "from skimage import io as skio\n",
    "\n",
    "\n",
    "# POUR LA MORPHO\n",
    "from skimage.segmentation import watershed \n",
    "from skimage.feature import peak_local_max"
   ]
  },
  {
   "cell_type": "markdown",
   "id": "9b5e0f24",
   "metadata": {},
   "source": [
    "## Détection de contours\n",
    "\n",
    "### Filtre de gradient local par masque\n",
    "\n",
    "**Rappelez l’intérêt du filtre de Sobel, par rapport au filtre différence, qui calcule une dérivée par la simple différence entre deux pixels voisins.**\n",
    "\n",
    "**Est-il nécessaire de faire un filtre passe-bas de l’image avant d’utiliser le filtre de\n",
    "Sobel?**"
   ]
  },
  {
   "cell_type": "code",
   "execution_count": 5,
   "id": "aecada3f",
   "metadata": {},
   "outputs": [],
   "source": [
    "#!pip install matlabengine"
   ]
  },
  {
   "cell_type": "code",
   "execution_count": 2,
   "id": "16ede6f8",
   "metadata": {},
   "outputs": [
    {
     "ename": "ModuleNotFoundError",
     "evalue": "No module named 'mrlab'",
     "output_type": "error",
     "traceback": [
      "\u001b[0;31m---------------------------------------------------------------------------\u001b[0m",
      "\u001b[0;31mModuleNotFoundError\u001b[0m                       Traceback (most recent call last)",
      "\u001b[0;32m/tmp/ipykernel_27067/3849296027.py\u001b[0m in \u001b[0;36m<module>\u001b[0;34m\u001b[0m\n\u001b[1;32m     19\u001b[0m \u001b[0;31m##############################################\u001b[0m\u001b[0;34m\u001b[0m\u001b[0;34m\u001b[0m\u001b[0;34m\u001b[0m\u001b[0m\n\u001b[1;32m     20\u001b[0m \u001b[0;34m\u001b[0m\u001b[0m\n\u001b[0;32m---> 21\u001b[0;31m \u001b[0;32mimport\u001b[0m \u001b[0mmrlab\u001b[0m \u001b[0;32mas\u001b[0m \u001b[0mmr\u001b[0m\u001b[0;34m\u001b[0m\u001b[0;34m\u001b[0m\u001b[0m\n\u001b[0m\u001b[1;32m     22\u001b[0m \u001b[0;34m\u001b[0m\u001b[0m\n\u001b[1;32m     23\u001b[0m \u001b[0;31m##############################################\"\u001b[0m\u001b[0;34m\u001b[0m\u001b[0;34m\u001b[0m\u001b[0;34m\u001b[0m\u001b[0m\n",
      "\u001b[0;31mModuleNotFoundError\u001b[0m: No module named 'mrlab'"
     ]
    }
   ],
   "source": [
    "\"\"\"\n",
    "Created on 22 May 2019\n",
    "@author: M Roux\n",
    "\"\"\"\n",
    "\n",
    "import math\n",
    "import numpy as np\n",
    "import matplotlib.pyplot as plt\n",
    "import skimage as sk\n",
    "\n",
    "from scipy import ndimage\n",
    "from scipy import signal\n",
    "\n",
    "from skimage import io\n",
    "\n",
    "from skimage import filters\n",
    "\n",
    "\n",
    "##############################################\n",
    "import mrlab as mr\n",
    "##############################################\"\n",
    "\n",
    "############## le close('all') de Matlab\n",
    "plt.close('all')\n",
    "################################\""
   ]
  },
  {
   "cell_type": "code",
   "execution_count": null,
   "id": "510c780d",
   "metadata": {},
   "outputs": [],
   "source": [
    "ima=io.imread('cell.tif')\n",
    "sigma=0\n",
    "seuilnorme=0.1\n",
    "\n",
    "\n",
    "gfima=filters.gaussian(ima,sigma)\n",
    "\n",
    "plt.figure('Image originale')\n",
    "plt.imshow(ima, cmap='gray')\n",
    "\n",
    "plt.figure('Image filtrée (passe-bas)')\n",
    "plt.imshow(gfima, cmap='gray')\n",
    "\n",
    "gradx=mr.sobelGradX(gfima)\n",
    "grady=mr.sobelGradY(gfima)  \n",
    "      \n",
    "plt.figure('Gradient horizontal')\n",
    "plt.imshow(gradx, cmap='gray')\n",
    "\n",
    "plt.figure('Gradient vertical')\n",
    "plt.imshow(grady, cmap='gray')\n",
    "\n",
    "norme=np.sqrt(gradx*gradx+grady*grady)\n",
    "\n",
    "    \n",
    "plt.figure('Norme du gradient')\n",
    "plt.imshow(norme, cmap='gray')\n",
    "\n",
    "direction=np.arctan2(grady,gradx)\n",
    "    \n",
    "plt.figure('Direction du Gradient')\n",
    "plt.imshow(direction, cmap='gray')\n",
    "\n",
    "\n",
    "contoursnorme =(norme>seuilnorme) \n",
    "\n",
    "\n",
    "plt.figure('Norme seuillée')\n",
    "plt.imshow(255*contoursnorme)\n",
    "\n",
    "\n",
    "contours=np.uint8(mr.maximaDirectionGradient(gradx,grady))\n",
    "\n",
    "plt.figure('Maxima du gradient dans la direction du gradient')\n",
    "plt.imshow(255*contours)\n",
    "\n",
    "\n",
    "valcontours=(norme>seuilnorme)*contours\n",
    "      \n",
    "plt.figure()\n",
    "plt.imshow(255*valcontours)\n",
    "plt.show()\n"
   ]
  }
 ],
 "metadata": {
  "kernelspec": {
   "display_name": "Python 3 (ipykernel)",
   "language": "python",
   "name": "python3"
  },
  "language_info": {
   "codemirror_mode": {
    "name": "ipython",
    "version": 3
   },
   "file_extension": ".py",
   "mimetype": "text/x-python",
   "name": "python",
   "nbconvert_exporter": "python",
   "pygments_lexer": "ipython3",
   "version": "3.8.10"
  }
 },
 "nbformat": 4,
 "nbformat_minor": 5
}
